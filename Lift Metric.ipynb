{
 "cells": [
  {
   "cell_type": "code",
   "execution_count": 1,
   "metadata": {
    "collapsed": true
   },
   "outputs": [],
   "source": [
    "import pandas as pd"
   ]
  },
  {
   "cell_type": "code",
   "execution_count": 117,
   "metadata": {
    "collapsed": false,
    "scrolled": true
   },
   "outputs": [
    {
     "data": {
      "text/html": [
       "<div>\n",
       "<table border=\"1\" class=\"dataframe\">\n",
       "  <thead>\n",
       "    <tr style=\"text-align: right;\">\n",
       "      <th></th>\n",
       "      <th>First Item</th>\n",
       "      <th>Second Item</th>\n",
       "      <th>Third Item</th>\n",
       "      <th>Fourth Item</th>\n",
       "    </tr>\n",
       "    <tr>\n",
       "      <th>Transactions</th>\n",
       "      <th></th>\n",
       "      <th></th>\n",
       "      <th></th>\n",
       "      <th></th>\n",
       "    </tr>\n",
       "  </thead>\n",
       "  <tbody>\n",
       "    <tr>\n",
       "      <th>Transaction1</th>\n",
       "      <td>Apple</td>\n",
       "      <td>Beer</td>\n",
       "      <td>Rice</td>\n",
       "      <td>Meat</td>\n",
       "    </tr>\n",
       "    <tr>\n",
       "      <th>Transaction2</th>\n",
       "      <td>Apple</td>\n",
       "      <td>Beer</td>\n",
       "      <td>Rice</td>\n",
       "      <td>NaN</td>\n",
       "    </tr>\n",
       "    <tr>\n",
       "      <th>Transaction3</th>\n",
       "      <td>Apple</td>\n",
       "      <td>Beer</td>\n",
       "      <td>NaN</td>\n",
       "      <td>NaN</td>\n",
       "    </tr>\n",
       "    <tr>\n",
       "      <th>Transaction4</th>\n",
       "      <td>Apple</td>\n",
       "      <td>Pear</td>\n",
       "      <td>NaN</td>\n",
       "      <td>NaN</td>\n",
       "    </tr>\n",
       "    <tr>\n",
       "      <th>Transaction5</th>\n",
       "      <td>Milk</td>\n",
       "      <td>Beer</td>\n",
       "      <td>Rice</td>\n",
       "      <td>Meat</td>\n",
       "    </tr>\n",
       "    <tr>\n",
       "      <th>Transaction6</th>\n",
       "      <td>Milk</td>\n",
       "      <td>Beer</td>\n",
       "      <td>Rice</td>\n",
       "      <td>NaN</td>\n",
       "    </tr>\n",
       "    <tr>\n",
       "      <th>Transaction7</th>\n",
       "      <td>Milk</td>\n",
       "      <td>Beer</td>\n",
       "      <td>NaN</td>\n",
       "      <td>NaN</td>\n",
       "    </tr>\n",
       "    <tr>\n",
       "      <th>Transaction8</th>\n",
       "      <td>Milk</td>\n",
       "      <td>Pear</td>\n",
       "      <td>NaN</td>\n",
       "      <td>NaN</td>\n",
       "    </tr>\n",
       "  </tbody>\n",
       "</table>\n",
       "</div>"
      ],
      "text/plain": [
       "             First Item Second Item Third Item Fourth Item\n",
       "Transactions                                              \n",
       "Transaction1      Apple        Beer       Rice        Meat\n",
       "Transaction2      Apple        Beer       Rice         NaN\n",
       "Transaction3      Apple        Beer        NaN         NaN\n",
       "Transaction4      Apple        Pear        NaN         NaN\n",
       "Transaction5       Milk        Beer       Rice        Meat\n",
       "Transaction6       Milk        Beer       Rice         NaN\n",
       "Transaction7       Milk        Beer        NaN         NaN\n",
       "Transaction8       Milk        Pear        NaN         NaN"
      ]
     },
     "execution_count": 117,
     "metadata": {},
     "output_type": "execute_result"
    }
   ],
   "source": [
    "df = pd.read_csv(\"market.csv\", index_col=\"Transactions\")\n",
    "df"
   ]
  },
  {
   "cell_type": "code",
   "execution_count": 118,
   "metadata": {
    "collapsed": false
   },
   "outputs": [
    {
     "data": {
      "text/plain": [
       "1.3333333333333333"
      ]
     },
     "execution_count": 118,
     "metadata": {},
     "output_type": "execute_result"
    }
   ],
   "source": [
    "lift('Beer','Meat')"
   ]
  },
  {
   "cell_type": "code",
   "execution_count": 119,
   "metadata": {
    "collapsed": true
   },
   "outputs": [],
   "source": [
    "def lift(product1,product2):\n",
    "    return support(product1,product2) / ( support(product1) * support(product2))\n",
    "    # lift (X -> Y) = sup(X and Y) / ( sup(X) * sup(Y) )"
   ]
  },
  {
   "cell_type": "code",
   "execution_count": 120,
   "metadata": {
    "collapsed": true
   },
   "outputs": [],
   "source": [
    "def support(product1,product2=None):\n",
    "    count_of_transactions = len(df) ## Number of total transactions\n",
    "    \n",
    "    # if we only check one item support (support(\"Beer\"))\n",
    "    if product2 == None:\n",
    "        count_of_product = 0 # total number of products\n",
    "        for i in df.columns: # check all columns and count the products\n",
    "            count_of_product = count_of_product + (df[i].str.contains(product1).sum())\n",
    "        return float(count_of_product / count_of_transactions) \n",
    "        # return percentage of transactions that contain product\n",
    "    else:\n",
    "        # if we check for support(\"Beer\" and \"Meet\") , two product\n",
    "        count_of_both_product = 0\n",
    "        for i in range(len(df)): # each transaction\n",
    "            hasProd = False \n",
    "            hasProd2 = False\n",
    "            for j in df.iloc[i]: # iterate items inside of transaction\n",
    "                if j == product1:\n",
    "                    hasProd = True\n",
    "                elif j == product2:\n",
    "                    hasProd2 = True\n",
    "                if hasProd and hasProd2:\n",
    "                    count_of_both_product = count_of_both_product + 1 \n",
    "                    # both product is find in same transaction\n",
    "                    break\n",
    "        return float(count_of_both_product / count_of_transactions)"
   ]
  },
  {
   "cell_type": "code",
   "execution_count": 121,
   "metadata": {
    "collapsed": true
   },
   "outputs": [],
   "source": [
    "def confident(product1, product2):\n",
    "    return support(product1,product2) / support(product1)"
   ]
  },
  {
   "cell_type": "code",
   "execution_count": null,
   "metadata": {
    "collapsed": true
   },
   "outputs": [],
   "source": []
  }
 ],
 "metadata": {
  "anaconda-cloud": {},
  "kernelspec": {
   "display_name": "Python [Root]",
   "language": "python",
   "name": "Python [Root]"
  },
  "language_info": {
   "codemirror_mode": {
    "name": "ipython",
    "version": 3
   },
   "file_extension": ".py",
   "mimetype": "text/x-python",
   "name": "python",
   "nbconvert_exporter": "python",
   "pygments_lexer": "ipython3",
   "version": "3.5.2"
  }
 },
 "nbformat": 4,
 "nbformat_minor": 0
}
